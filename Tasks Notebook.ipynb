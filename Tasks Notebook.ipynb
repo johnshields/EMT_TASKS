{
 "cells": [
  {
   "cell_type": "markdown",
   "metadata": {},
   "source": [
    "# Emerging Technologies Task 1"
   ]
  },
  {
   "cell_type": "markdown",
   "metadata": {},
   "source": [
    "Write a Python function called sqrt2 that calculates and prints to the screen the square root of 2 to 100 decimal places. "
   ]
  },
  {
   "cell_type": "markdown",
   "metadata": {},
   "source": [
    "A Python fuction that calculates and prints to the screen a sqaure root of 2 to 100 decimal places. This function works by using a while loop to estimate the square root. Then using method to return the absolute value of the number. This is simply to get an approximation for the square root, then calcuting the square root of 2 and finally printing the result to 100 decimal places.\n",
    "\n",
    "We can calculate the square root of a number using Newton's method [1, 2]. To find the square root $z$ of a number $x$, we can iterate using the following equation.\n",
    "\n",
    "$$ z_{next} = z - \\frac{z^2 - x}{2z} $$"
   ]
  },
  {
   "cell_type": "markdown",
   "metadata": {},
   "source": [
    "###### References\n",
    "\n",
    "[1] A Tour of Go; Exercise: Loops and Functions; https://tour.golang.org/flowcontrol/8\n",
    "\n",
    "[2] Newton's method; https://en.wikipedia.org/wiki/Newton%27s_method\n",
    "\n",
    "[3] https://realpython.com/python-square-root-function/\n",
    "\n",
    "[4] https://stackoverflow.com/questions/24362686/how-to-print-out-100-decimal-places-of-sqrt2\n",
    "\n",
    "[5] https://stackoverflow.com/questions/9595135/how-do-i-calculate-square-root-in-python\n",
    "\n",
    "[6] https://www.w3schools.com/python/ref_func_abs.asp\n",
    "\n",
    "[7] https://www.geeksforgeeks.org/find-root-of-a-number-using-newtons-method/\n",
    "\n",
    "[8] https://medium.com/@surajregmi/how-to-calculate-the-square-root-of-a-number-newton-raphson-method-f8007714f64"
   ]
  },
  {
   "cell_type": "code",
   "execution_count": 1,
   "metadata": {},
   "outputs": [],
   "source": [
    "# Python function called sqrt2 that calculates and\n",
    "# prints to the screen the square root of 2 to 100 decimal places\n",
    "def sqrt(x):\n",
    "\n",
    "    z = 1.0\n",
    "    # while to estimate the square root\n",
    "    # method returns the absolute value of number\n",
    "    while abs(z*z - x) >= 0.0000001:\n",
    "        # get better approximation for square root\n",
    "        z -= (z*z - x) / (2*z)\n",
    "        \n",
    "    return (\"%.100f\" % z)\n",
    "\n"
   ]
  },
  {
   "cell_type": "code",
   "execution_count": 2,
   "metadata": {},
   "outputs": [
    {
     "data": {
      "text/plain": [
       "'10.0000000001398969828869667253457009792327880859375000000000000000000000000000000000000000000000000000'"
      ]
     },
     "execution_count": 2,
     "metadata": {},
     "output_type": "execute_result"
    }
   ],
   "source": [
    "# Test the function on 100.\n",
    "sqrt(100)\n"
   ]
  },
  {
   "cell_type": "code",
   "execution_count": 3,
   "metadata": {},
   "outputs": [
    {
     "data": {
      "text/plain": [
       "'1.4142135623746898698271934335934929549694061279296875000000000000000000000000000000000000000000000000'"
      ]
     },
     "execution_count": 3,
     "metadata": {},
     "output_type": "execute_result"
    }
   ],
   "source": [
    "# Test the function on 2.\n",
    "sqrt(2)"
   ]
  },
  {
   "cell_type": "markdown",
   "metadata": {},
   "source": [
    "END OF TASK 1\n"
   ]
  },
  {
   "cell_type": "markdown",
   "metadata": {},
   "source": [
    "# Emerging Technologies Task 2"
   ]
  },
  {
   "cell_type": "markdown",
   "metadata": {},
   "source": [
    "Use scipy.stats to verify this value and calculate the associated p value."
   ]
  },
  {
   "cell_type": "markdown",
   "metadata": {},
   "source": [
    "The Chi-squared test for independence is a statistical hypothesis test like a t-test. It is used to analyse whether two categorical variables are independent."
   ]
  },
  {
   "cell_type": "markdown",
   "metadata": {},
   "source": [
    "For example, in an election survey, voters might be classified by gender (male or female) and voting preference (Democrat, Republican, or Independent). We could use a chi-square test for independence to determine whether gender is related to voting preference. [1]\n"
   ]
  },
  {
   "cell_type": "markdown",
   "metadata": {},
   "source": [
    "We can calculate the Chi Square Statistic by using this formula. [2]\n",
    "\n",
    "![image.png](attachment:image.png)\n"
   ]
  },
  {
   "cell_type": "markdown",
   "metadata": {},
   "source": [
    "### scipy.stats.chi2_contingency"
   ]
  },
  {
   "cell_type": "markdown",
   "metadata": {},
   "source": [
    "chi2 : float\n",
    "The test statistic.\n",
    "\n",
    "p : float\n",
    "The p-value of the test\n",
    "\n",
    "dof : int\n",
    "Degrees of freedom\n",
    "\n",
    "expected : ndarray, same shape as observed\n",
    "The expected frequencies, based on the marginal sums of the table. [3]"
   ]
  },
  {
   "cell_type": "markdown",
   "metadata": {},
   "source": [
    "##### References\n",
    "\n",
    "[1] Chi-Square Test for Independence https://stattrek.com/chi-square-test/independence.aspx \n",
    "\n",
    "[2] Calculate Chi Square Statistic by Hand https://www.statisticssolutions.com/non-parametric-analysis-chi-square/\n",
    "\n",
    "[3] scipy.stats.chi2_contingency https://docs.scipy.org/doc/scipy/reference/generated/scipy.stats.chi2_contingency.html"
   ]
  },
  {
   "cell_type": "markdown",
   "metadata": {},
   "source": [
    "# Python code"
   ]
  },
  {
   "cell_type": "code",
   "execution_count": 1,
   "metadata": {},
   "outputs": [
    {
     "name": "stdout",
     "output_type": "stream",
     "text": [
      "RESULTS:\n",
      "\n"
     ]
    }
   ],
   "source": [
    "from scipy.stats import chi2_contingency\n",
    "\n",
    "# cotingency table data from task\n",
    "obs =[90, 60, 104 ,95],[30, 50, 51, 20],[30, 40, 45, 35]\n",
    "\n",
    "# ***g = chi2***\n",
    "g, p, dof, expctd = chi2_contingency(obs)\n",
    "\n",
    "# print the results\n",
    "print(\"RESULTS:\\n\")"
   ]
  },
  {
   "cell_type": "code",
   "execution_count": 2,
   "metadata": {},
   "outputs": [
    {
     "name": "stdout",
     "output_type": "stream",
     "text": [
      "Expected:\n",
      "[[ 80.53846154  80.53846154 107.38461538  80.53846154]\n",
      " [ 34.84615385  34.84615385  46.46153846  34.84615385]\n",
      " [ 34.61538462  34.61538462  46.15384615  34.61538462]]\n"
     ]
    }
   ],
   "source": [
    "print(\"Expected:\")\n",
    "print(expctd)"
   ]
  },
  {
   "cell_type": "code",
   "execution_count": 3,
   "metadata": {},
   "outputs": [
    {
     "name": "stdout",
     "output_type": "stream",
     "text": [
      "Chi2:\n",
      "24.5712028585826\n"
     ]
    }
   ],
   "source": [
    "print(\"Chi2:\")\n",
    "print(g)"
   ]
  },
  {
   "cell_type": "code",
   "execution_count": 4,
   "metadata": {},
   "outputs": [
    {
     "name": "stdout",
     "output_type": "stream",
     "text": [
      "Degree of Freedom:\n",
      "6\n"
     ]
    }
   ],
   "source": [
    "print(\"Degree of Freedom:\")\n",
    "print(dof)"
   ]
  },
  {
   "cell_type": "code",
   "execution_count": 5,
   "metadata": {},
   "outputs": [
    {
     "name": "stdout",
     "output_type": "stream",
     "text": [
      "P value:\n",
      "0.0004098425861096696\n"
     ]
    }
   ],
   "source": [
    "print(\"P value:\")\n",
    "print(p)"
   ]
  }
 ],
 "metadata": {
  "kernelspec": {
   "display_name": "Python 3",
   "language": "python",
   "name": "python3"
  },
  "language_info": {
   "codemirror_mode": {
    "name": "ipython",
    "version": 3
   },
   "file_extension": ".py",
   "mimetype": "text/x-python",
   "name": "python",
   "nbconvert_exporter": "python",
   "pygments_lexer": "ipython3",
   "version": "3.8.3"
  }
 },
 "nbformat": 4,
 "nbformat_minor": 4
}
