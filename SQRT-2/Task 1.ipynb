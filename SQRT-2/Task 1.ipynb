{
 "cells": [
  {
   "cell_type": "markdown",
   "metadata": {},
   "source": [
    "# Emerging Technologies Task 1"
   ]
  },
  {
   "cell_type": "markdown",
   "metadata": {},
   "source": [
    "Write a Python function called sqrt2 that calculates and prints to the screen the square root of 2 to 100 decimal places. "
   ]
  },
  {
   "cell_type": "markdown",
   "metadata": {},
   "source": [
    "A Python fuction that calculates and prints to the screen a sqaure root of 2 to 100 decimal places. This function works by using a while loop to estimate the square root. Then using method to return the absolute value of the number. This is simply to get an approximation for the square root, then calcuting the square root of 2 and finally printing the result to 100 decimal places.\n",
    "\n",
    "We can calculate the square root of a number using Newton's method [1, 2]. To find the square root $z$ of a number $x$, we can iterate using the following equation.\n",
    "\n",
    "$$ z_{next} = z - \\frac{z^2 - x}{2z} $$\n",
    "\n",
    "# References\n",
    "[1] A Tour of Go; Exercise: Loops and Functions; https://tour.golang.org/flowcontrol/8\n",
    "\n",
    "[2] Newton's method; https://en.wikipedia.org/wiki/Newton%27s_method\n",
    "\n",
    "[3] https://web.microsoftstream.com/video/214c8379-7c67-45b5-910d-39ec5d269223\n",
    "\n",
    "[4] https://realpython.com/python-square-root-function/\n",
    "\n",
    "[5] https://stackoverflow.com/questions/24362686/how-to-print-out-100-decimal-places-of-sqrt2\n",
    "\n",
    "[6] https://stackoverflow.com/questions/9595135/how-do-i-calculate-square-root-in-python\n",
    "\n",
    "[7] https://www.w3schools.com/python/ref_func_abs.asp\n",
    "\n",
    "[8] https://www.geeksforgeeks.org/find-root-of-a-number-using-newtons-method/\n",
    "\n",
    "[9] https://www.codegrepper.com/code-examples/python/python+print+2+decimal+places\n",
    "\n",
    "[10] https://medium.com/@surajregmi/how-to-calculate-the-square-root-of-a-number-newton-raphson-method-f8007714f64\n",
    "\n",
    "[11] https://github.com/ianmcloughlin/playing-with-jupyter\n",
    "\n"
   ]
  },
  {
   "cell_type": "code",
   "execution_count": 1,
   "metadata": {},
   "outputs": [],
   "source": [
    "# Python function called sqrt2 that calculates and\n",
    "# prints to the screen the square root of 2 to 100 decimal places\n",
    "def sqrt(x):\n",
    "\n",
    "    z = 1.0\n",
    "    # while to estimate the square root\n",
    "    # method returns the absolute value of number\n",
    "    while abs(z*z - x) >= 0.0000001:\n",
    "        # get better approximation for square root\n",
    "        z -= (z*z - x) / (2*z)\n",
    "        \n",
    "    return (\"%.100f\" % z)\n",
    "\n"
   ]
  },
  {
   "cell_type": "code",
   "execution_count": 2,
   "metadata": {},
   "outputs": [
    {
     "data": {
      "text/plain": [
       "'10.0000000001398969828869667253457009792327880859375000000000000000000000000000000000000000000000000000'"
      ]
     },
     "execution_count": 2,
     "metadata": {},
     "output_type": "execute_result"
    }
   ],
   "source": [
    "# Test the function on 100.\n",
    "sqrt(100)\n"
   ]
  },
  {
   "cell_type": "code",
   "execution_count": 3,
   "metadata": {},
   "outputs": [
    {
     "data": {
      "text/plain": [
       "'1.4142135623746898698271934335934929549694061279296875000000000000000000000000000000000000000000000000'"
      ]
     },
     "execution_count": 3,
     "metadata": {},
     "output_type": "execute_result"
    }
   ],
   "source": [
    "# Test the function on 2.\n",
    "sqrt(2)"
   ]
  },
  {
   "cell_type": "code",
   "execution_count": null,
   "metadata": {},
   "outputs": [],
   "source": []
  }
 ],
 "metadata": {
  "kernelspec": {
   "display_name": "Python 3",
   "language": "python",
   "name": "python3"
  },
  "language_info": {
   "codemirror_mode": {
    "name": "ipython",
    "version": 3
   },
   "file_extension": ".py",
   "mimetype": "text/x-python",
   "name": "python",
   "nbconvert_exporter": "python",
   "pygments_lexer": "ipython3",
   "version": "3.8.3"
  }
 },
 "nbformat": 4,
 "nbformat_minor": 4
}
